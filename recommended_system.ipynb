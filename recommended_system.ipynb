{
  "nbformat": 4,
  "nbformat_minor": 0,
  "metadata": {
    "colab": {
      "provenance": [],
      "authorship_tag": "ABX9TyPUsA3vMw8hyHPNyqi9SuDc",
      "include_colab_link": true
    },
    "kernelspec": {
      "name": "python3",
      "display_name": "Python 3"
    },
    "language_info": {
      "name": "python"
    }
  },
  "cells": [
    {
      "cell_type": "markdown",
      "metadata": {
        "id": "view-in-github",
        "colab_type": "text"
      },
      "source": [
        "<a href=\"https://colab.research.google.com/github/nikitthanune/CODSOFT/blob/main/recommended_system.ipynb\" target=\"_parent\"><img src=\"https://colab.research.google.com/assets/colab-badge.svg\" alt=\"Open In Colab\"/></a>"
      ]
    },
    {
      "cell_type": "code",
      "execution_count": null,
      "metadata": {
        "id": "y8K7lH_sYseM"
      },
      "outputs": [],
      "source": [
        "import pandas as pd\n",
        "import numpy as np\n",
        "from sklearn.metrics.pairwise import cosine_similarity\n",
        "\n",
        "# User-item ratings data\n",
        "data = {\n",
        "    'User': ['Alice', 'Bob', 'Charlie', 'David'],\n",
        "    'Matrix': [5, 3, 0, 4],\n",
        "    'Inception': [4, 0, 3, 4],\n",
        "    'Avengers': [3, 4, 2, 5],\n",
        "    'Titanic': [0, 4, 3, 3]\n",
        "}\n",
        "df = pd.DataFrame(data).set_index('User')\n"
      ]
    },
    {
      "cell_type": "code",
      "source": [
        "# Function to get recommendations\n",
        "def recommend_movies(user_name):\n",
        "    # Check if the user exists in the dataset\n",
        "    if user_name not in df.index:\n",
        "        print(f\"Hello, {user_name}! We don’t have any data for you yet.\")\n",
        "        new_user_ratings = {}\n",
        "\n",
        "        # Prompt for ratings for some movies\n",
        "        for movie in df.columns:\n",
        "            try:\n",
        "                rating = float(input(f\"Please rate '{movie}' (0-5): \"))\n",
        "                new_user_ratings[movie] = rating\n",
        "            except ValueError:\n",
        "                new_user_ratings[movie] = 0  # Default rating if input is invalid\n",
        "        df.loc[user_name] = new_user_ratings  # Add the new user to the dataset\n",
        "\n",
        "    # Calculate cosine similarity between users\n",
        "    similarity_matrix = cosine_similarity(df.fillna(0))\n",
        "    similarity_df = pd.DataFrame(similarity_matrix, index=df.index, columns=df.index)\n",
        "\n",
        "    # Get recommendations based on the user's ratings\n",
        "    user_ratings = df.loc[user_name]\n",
        "    similar_users = similarity_df[user_name].sort_values(ascending=False)[1:]  # Exclude the user\n",
        "    recommendations = pd.Series()\n",
        "\n",
        "    # Weighted average of ratings from similar users\n",
        "    for similar_user, similarity_score in similar_users.items():\n",
        "        weighted_ratings = df.loc[similar_user] * similarity_score\n",
        "        recommendations = recommendations.add(weighted_ratings, fill_value=0)\n",
        "\n",
        "    # Normalize by similarity scores and filter out movies already rated\n",
        "    recommendations /= similar_users.sum()\n",
        "    recommendations = recommendations[user_ratings == 0]  # Filter out movies already rated\n",
        "\n",
        "    # Display recommendations\n",
        "    print(f\"\\nRecommendations for {user_name}:\\n\", recommendations.sort_values(ascending=False).head())\n"
      ],
      "metadata": {
        "id": "poBkb1QOY6jM"
      },
      "execution_count": null,
      "outputs": []
    },
    {
      "cell_type": "code",
      "source": [
        "# Ask the user for their name\n",
        "user_name = input(\"Please enter your name: \")\n",
        "recommend_movies(user_name)\n"
      ],
      "metadata": {
        "colab": {
          "base_uri": "https://localhost:8080/"
        },
        "id": "jbL33h4-Y-K5",
        "outputId": "a045ef84-05f5-4fd6-c765-8b4b824f0152"
      },
      "execution_count": null,
      "outputs": [
        {
          "output_type": "stream",
          "name": "stdout",
          "text": [
            "Please enter your name: bob\n",
            "\n",
            "Recommendations for bob:\n",
            " Avengers    3.534233\n",
            "dtype: object\n"
          ]
        }
      ]
    },
    {
      "cell_type": "code",
      "source": [
        "import pandas as pd\n",
        "from sklearn.neighbors import NearestNeighbors\n",
        "\n",
        "# Sample user-item ratings data\n",
        "data = {\n",
        "    'User': ['Alice', 'Bob', 'Charlie', 'David'],\n",
        "    'Matrix': [5, 3, 0, 4],\n",
        "    'Inception': [4, 0, 3, 4],\n",
        "    'Avengers': [3, 4, 2, 5],\n",
        "    'Titanic': [0, 4, 3, 3]\n",
        "}\n",
        "df = pd.DataFrame(data).set_index('User')\n",
        "\n",
        "# Create k-NN model\n",
        "knn = NearestNeighbors(metric='cosine', algorithm='brute')\n",
        "knn.fit(df)\n",
        "\n",
        "# Function to get recommendations based on similar users\n",
        "def recommend_knn(user_name):\n",
        "    if user_name not in df.index:\n",
        "        return \"User not found.\"\n",
        "\n",
        "    # Find nearest neighbors\n",
        "    user_index = df.index.get_loc(user_name)\n",
        "    distances, indices = knn.kneighbors([df.iloc[user_index]], n_neighbors=3)\n",
        "\n",
        "    # Get recommendations from similar users\n",
        "    similar_users = df.index[indices.flatten()]\n",
        "    recommendations = df.loc[similar_users].mean(axis=0)\n",
        "    recommendations = recommendations[df.loc[user_name] == 0]  # Exclude already rated\n",
        "\n",
        "    return recommendations.sort_values(ascending=False).head()\n",
        "\n",
        "# Input user name and get recommendations\n",
        "user_name = input(\"Enter your name: \")\n",
        "print(\"Collaborative Recommendations:\", recommend_knn(user_name))\n"
      ],
      "metadata": {
        "colab": {
          "base_uri": "https://localhost:8080/"
        },
        "id": "A03nvNKVZ_4K",
        "outputId": "6bff3a32-4d4d-4b41-a3df-007ee596b64c"
      },
      "execution_count": null,
      "outputs": [
        {
          "output_type": "stream",
          "name": "stdout",
          "text": [
            "Enter your name: Alice\n",
            "Collaborative Recommendations: Titanic    2.333333\n",
            "dtype: float64\n"
          ]
        },
        {
          "output_type": "stream",
          "name": "stderr",
          "text": [
            "/usr/local/lib/python3.10/dist-packages/sklearn/base.py:493: UserWarning: X does not have valid feature names, but NearestNeighbors was fitted with feature names\n",
            "  warnings.warn(\n"
          ]
        }
      ]
    },
    {
      "cell_type": "code",
      "source": [
        "import pandas as pd\n",
        "from sklearn.neighbors import NearestNeighbors\n",
        "\n",
        "# Sample user-item ratings data\n",
        "data = {\n",
        "    'User': ['Alice', 'Bob', 'Charlie', 'David'],\n",
        "    'Matrix': [5, 3, 0, 4],\n",
        "    'Inception': [4, 0, 3, 4],\n",
        "    'Avengers': [3, 4, 2, 5],\n",
        "    'Titanic': [0, 4, 3, 3]\n",
        "}\n",
        "df = pd.DataFrame(data).set_index('User')\n",
        "\n",
        "# Create k-NN model\n",
        "knn = NearestNeighbors(metric='cosine', algorithm='brute')\n",
        "knn.fit(df)\n",
        "\n",
        "# Function to get recommendations based on similar users\n",
        "def recommend_knn(user_name):\n",
        "    if user_name not in df.index:\n",
        "        return \"User not found.\"\n",
        "\n",
        "    # Find nearest neighbors\n",
        "    user_index = df.index.get_loc(user_name)\n",
        "    distances, indices = knn.kneighbors([df.iloc[user_index]], n_neighbors=3)\n",
        "\n",
        "    # Get recommendations from similar users\n",
        "    similar_users = df.index[indices.flatten()]\n",
        "    recommendations = df.loc[similar_users].mean(axis=0)\n",
        "    recommendations = recommendations[df.loc[user_name] == 0]  # Exclude already rated\n",
        "\n",
        "    return recommendations.sort_values(ascending=False).head()\n",
        "\n",
        "# Input user name and get recommendations\n",
        "user_name = input(\"Enter your name: \")\n",
        "print(\"Collaborative Recommendations:\", recommend_knn(user_name))\n"
      ],
      "metadata": {
        "colab": {
          "base_uri": "https://localhost:8080/"
        },
        "id": "S4FpMIotaNR6",
        "outputId": "06d81a69-827a-4553-8367-bf4c06184d7a"
      },
      "execution_count": null,
      "outputs": [
        {
          "output_type": "stream",
          "name": "stdout",
          "text": [
            "Enter your name: Bob\n",
            "Collaborative Recommendations: Inception    2.333333\n",
            "dtype: float64\n"
          ]
        },
        {
          "output_type": "stream",
          "name": "stderr",
          "text": [
            "/usr/local/lib/python3.10/dist-packages/sklearn/base.py:493: UserWarning: X does not have valid feature names, but NearestNeighbors was fitted with feature names\n",
            "  warnings.warn(\n"
          ]
        }
      ]
    }
  ]
}